{
 "cells": [
  {
   "cell_type": "markdown",
   "metadata": {},
   "source": [
    "# Creating Containers"
   ]
  },
  {
   "cell_type": "markdown",
   "metadata": {},
   "source": [
    "## Best Practices before we start:\n",
    "- Keep track of all commands you use during your installation either by writing them down or creating a copy of your “history”.\n",
    "- To copy history issue the following: “history >> history.log”\n",
    "- Always use “sudo” before issuing a singularity command\n",
    "- If you are building your container on the platform, always use “screen”\n",
    "- You may need to install it in your instance “yum install screen”\n",
    "- Use the screen command before starting any work. This will keep your environment setup and commands running in case you lose your connection to the instance.\n",
    "- You can reattach your “screen” by issuing the “screen -r” command after getting disconnected.\n",
    "- You can manually detach your screen by using “ctrl+a+d” again “screen -r” will reattach it to your current session. \n",
    "- It’s better to build using a “centos” os vs ubuntu for your container.\n"
   ]
  },
  {
   "cell_type": "markdown",
   "metadata": {},
   "source": [
    "### Creating a container in sandbox mode"
   ]
  },
  {
   "cell_type": "markdown",
   "metadata": {},
   "source": [
    "Create a writable folder and add os image"
   ]
  },
  {
   "cell_type": "code",
   "execution_count": null,
   "metadata": {},
   "outputs": [],
   "source": [
    "!sudo singularity build --sandbox centos/ library://centos"
   ]
  },
  {
   "cell_type": "markdown",
   "metadata": {},
   "source": [
    "Connect to the container by using the singularity shell command\n",
    "- the -w flag is important as it enables write mode for the sandbox. IE it saves all your changes"
   ]
  },
  {
   "cell_type": "code",
   "execution_count": null,
   "metadata": {},
   "outputs": [],
   "source": [
    "!sudo singularity shell -w centos/"
   ]
  },
  {
   "cell_type": "markdown",
   "metadata": {},
   "source": [
    "You'll need to setup your environment here. The following are typical a good starting point.\\\n",
    "MPICH can be swapped OpenMPI in case you want a different mpi flavor. \n"
   ]
  },
  {
   "cell_type": "code",
   "execution_count": null,
   "metadata": {},
   "outputs": [],
   "source": [
    "!yum -y update\n",
    "!yum -y groupinstall \"Development Tools\" \"Development Libraries\"\n",
    "!yum -y install gcc gcc-gfortran gcc-c++ git wget m4 mpich python3"
   ]
  },
  {
   "cell_type": "markdown",
   "metadata": {},
   "source": [
    "In this step we're downloading the software we want to build, SU2, via get into our sandbox\\\n",
    "In addtion we're moving into the directory to start our build.\\\n",
    "It's important to note, that if you place an install file in your home directory on the host machine\\\n",
    "singularity will automatically bind the home directory into the container as the home directory as well.\\\n",
    "This means you can leave a file in your home directory and access it directly inside the container as well. "
   ]
  },
  {
   "cell_type": "code",
   "execution_count": null,
   "metadata": {},
   "outputs": [],
   "source": [
    "!git clone https://github.com/su2code/SU2.git \n",
    "%cd SU2/"
   ]
  },
  {
   "cell_type": "markdown",
   "metadata": {},
   "source": [
    "Here we are just starting the build process to install SU2.\\ \n",
    "Steps will vary depending on the software you are compiling"
   ]
  },
  {
   "cell_type": "code",
   "execution_count": null,
   "metadata": {},
   "outputs": [],
   "source": [
    "!./meson.py build -Denable-autodiff=true -Dwith-mpi=enabled  "
   ]
  },
  {
   "cell_type": "code",
   "execution_count": null,
   "metadata": {},
   "outputs": [],
   "source": [
    "!./ninja -j 18 -C build install"
   ]
  },
  {
   "cell_type": "markdown",
   "metadata": {},
   "source": [
    "### These get added to .bashrc or .bash_profile. Note that these paths can change if you change the installation path as well. \n",
    "---\n",
    "`export SU2_RUN=/usr/local/bin\n",
    "export SU2_HOME=/root/SU2\n",
    "export PATH=$PATH:$SU2_RUN\n",
    "export PYTHONPATH=$PYTHONPATH:$SU2_RUN\n",
    "`"
   ]
  },
  {
   "cell_type": "code",
   "execution_count": 2,
   "metadata": {},
   "outputs": [
    {
     "ename": "SyntaxError",
     "evalue": "invalid syntax (<ipython-input-2-929fd1f89c11>, line 2)",
     "output_type": "error",
     "traceback": [
      "\u001b[0;36m  File \u001b[0;32m\"<ipython-input-2-929fd1f89c11>\"\u001b[0;36m, line \u001b[0;32m2\u001b[0m\n\u001b[0;31m    export SU2_RUN=/usr/local/bin\u001b[0m\n\u001b[0m                 ^\u001b[0m\n\u001b[0;31mSyntaxError\u001b[0m\u001b[0;31m:\u001b[0m invalid syntax\n"
     ]
    }
   ],
   "source": [
    "!echo export SU2_RUN=/usr/local/bin >> ~/.bash_profile\n",
    "!echo export SU2_HOME=/root/SU2 >> ~/.bash_profile\n",
    "!echo export PATH=$PATH:$SU2_RUN >> ~/.bash_profile\n",
    "!echo export PYTHONPATH=$PYTHONPATH:$SU2_RUN >> ~/.bash_profile\n",
    "!cat ~/test.test"
   ]
  },
  {
   "cell_type": "markdown",
   "metadata": {},
   "source": [
    "Exit the sandbox!"
   ]
  },
  {
   "cell_type": "code",
   "execution_count": null,
   "metadata": {},
   "outputs": [],
   "source": [
    "!exit"
   ]
  },
  {
   "cell_type": "markdown",
   "metadata": {},
   "source": [
    "Now we're going to turn our sandbox into a container.\\\n",
    "command syntax is\\\n",
    "`singularity build nameofcontainer.sif /path/to/<sandbox directory>\n",
    "`\n",
    "\\\n",
    "We're also going to move our container to your work directory so it'll save\\\n",
    "when you shut this job down."
   ]
  },
  {
   "cell_type": "code",
   "execution_count": null,
   "metadata": {},
   "outputs": [],
   "source": [
    "!sudo singularity build su2.sif centos/\n",
    "!cp su2.sif ~/work/shared/\n",
    "%cd .."
   ]
  },
  {
   "cell_type": "markdown",
   "metadata": {},
   "source": [
    "## Create a container from a recipe"
   ]
  },
  {
   "cell_type": "markdown",
   "metadata": {},
   "source": [
    "You can also create a container from a recipe file.\\\n",
    "Typically we want to keep track of the installation commands you used in the sandbox mode\\\n",
    "so that you can use those to create a recipe file.\\\n",
    "\\\n",
    "There are several pieces to a definition file.\\\n",
    "Please see the following link for more details:\\\n",
    "[Singularity Definition File](https://sylabs.io/guides/3.5/user-guide/definition_files.html)\n"
   ]
  },
  {
   "cell_type": "markdown",
   "metadata": {},
   "source": [
    "## Definition file\n",
    "\n",
    "There are two sections to a definition file.\\\n",
    "-The header\n",
    "-Sections\n",
    "\n",
    "The header contains the OS setup information.\\\n",
    "You'll need to choose how to bootstrap, ie where you're getting the os image/installation from.\\\n",
    "For our SU2 container we're going to set the following:\n",
    ">BootStrap: yum\\\n",
    ">OSVersion: 7\\\n",
    ">MirrorURL: http://mirror.centos.org/centos-%{OSVERSION}/%{OSVERSION}/os/$basearch/ \\\n",
    "Include: yum\n",
    "\n"
   ]
  },
  {
   "cell_type": "markdown",
   "metadata": {},
   "source": [
    "Sections contains the setup information\\\n",
    "Each section runs different commands at different points of the installation\\\n",
    "The following are the sections for our container: \n",
    "```\n",
    "%setup \n",
    "%files\n",
    "%post\n",
    "\tyum -y update\n",
    "\tyum -y groupinstall \"Development Tools\" \"Development Libraries\"\n",
    "\tyum -y install gcc gcc-gfortran gcc-c++ git wget m4 \n",
    "\tyum -y install mpich\n",
    "\tyum -y install python3\n",
    "\n",
    "\tgit clone https://github.com/su2code/SU2.git \n",
    "\tcd SU2/ \n",
    "\t./meson.py build -Denable-autodiff=true --prefix=/opt/SU2 \n",
    "\t./ninja -C build install \n",
    "\t\n",
    "%environment \n",
    "\texport SU2_RUN=/opt/SU2/bin \n",
    "\texport SU2_HOME=/root/SU2 \n",
    "    export PATH=$PATH:$SU2_RUN \n",
    "    export PYTHONPATH=$PYTHONPATH:$SU2_RUN \n",
    "\n",
    "%runscript \n",
    "\techo \"Container is running and ready to execute SU2\" \n",
    "\t\n",
    "%labels \n",
    "\n",
    "\tAuthor cramirez@rescale.com \n",
    "\tVersion 1.0.0 \n",
    "\tSU2version v7.0.1 \n",
    "```"
   ]
  },
  {
   "cell_type": "markdown",
   "metadata": {},
   "source": [
    "***Setup*** \\\n",
    "The Setup section will execute commands on the host machine, that may be necessary for certain features within\\\n",
    "the container.\n",
    "\n",
    "***Files*** \\\n",
    "The Files section is where you can map files from the host system into container. Good for passing installation files or other setup options.\n",
    "\n",
    "***Post*** \\\n",
    "This section allows you to use different tools like yum or git to download installation files or\\\n",
    "packages that are required for setup. \\\n",
    "This is also the place to place installation commands or run scripts. This is where the true magic happens.\n",
    "\n",
    "***Environment*** \\\n",
    "Here you setup your environment. Setting up your PATH or creating ENV Variables.\\\n",
    "This runs ***AFTER*** the post section.\n",
    "\n",
    "***Runscript*** \\\n",
    "Items here get get written to a file that will execute at run time.\\\n",
    "In this case we'll be showing \\\n",
    "`Container is running and ready to execute SU2`\\\n",
    "to the command line when the container is run.\\\n",
    "We can also use this to pass in arguments to the application in the container.\n",
    "\n",
    "***Labels*** \\\n",
    "This is where we place our metadata.\\\n",
    "\n",
    "## Building!\n",
    "Use the following command to build your container!\\ \n",
    "Syntax is\\\n",
    "singularity build containername.sif definitionfile.def"
   ]
  },
  {
   "cell_type": "code",
   "execution_count": null,
   "metadata": {},
   "outputs": [],
   "source": [
    "!singularity build su2-recipe.sif su2.def"
   ]
  }
 ],
 "metadata": {
  "kernelspec": {
   "display_name": "Python 3",
   "language": "python",
   "name": "python3"
  },
  "language_info": {
   "codemirror_mode": {
    "name": "ipython",
    "version": 3
   },
   "file_extension": ".py",
   "mimetype": "text/x-python",
   "name": "python",
   "nbconvert_exporter": "python",
   "pygments_lexer": "ipython3",
   "version": "3.7.3"
  }
 },
 "nbformat": 4,
 "nbformat_minor": 4
}
